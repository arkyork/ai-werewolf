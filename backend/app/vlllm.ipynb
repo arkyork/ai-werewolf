{
 "cells": [
  {
   "cell_type": "code",
   "execution_count": 1,
   "id": "72bf6417-ee77-4d9c-a2a0-337bc9384200",
   "metadata": {},
   "outputs": [
    {
     "name": "stderr",
     "output_type": "stream",
     "text": [
      "/opt/venv/lib/python3.10/site-packages/tqdm/auto.py:21: TqdmWarning: IProgress not found. Please update jupyter and ipywidgets. See https://ipywidgets.readthedocs.io/en/stable/user_install.html\n",
      "  from .autonotebook import tqdm as notebook_tqdm\n"
     ]
    },
    {
     "name": "stdout",
     "output_type": "stream",
     "text": [
      "INFO 06-16 07:15:33 [__init__.py:244] Automatically detected platform cuda.\n"
     ]
    },
    {
     "name": "stderr",
     "output_type": "stream",
     "text": [
      "2025-06-16 07:15:34,834\tINFO util.py:154 -- Missing packages: ['ipywidgets']. Run `pip install -U ipywidgets`, then restart the notebook server for rich notebook output.\n"
     ]
    }
   ],
   "source": [
    "from vllm import LLM, SamplingParams\n"
   ]
  },
  {
   "cell_type": "code",
   "execution_count": 2,
   "id": "0a73aaa8-041a-4689-acba-239ee1469510",
   "metadata": {
    "scrolled": true
   },
   "outputs": [
    {
     "name": "stdout",
     "output_type": "stream",
     "text": [
      "INFO 06-16 07:15:43 [config.py:823] This model supports multiple tasks: {'score', 'classify', 'embed', 'reward', 'generate'}. Defaulting to 'generate'.\n",
      "INFO 06-16 07:15:44 [config.py:2195] Chunked prefill is enabled with max_num_batched_tokens=8192.\n",
      "INFO 06-16 07:15:48 [core.py:455] Waiting for init message from front-end.\n",
      "INFO 06-16 07:15:48 [core.py:70] Initializing a V1 LLM engine (v0.9.1) with config: model='meta-llama/Llama-3.2-1B', speculative_config=None, tokenizer='meta-llama/Llama-3.2-1B', skip_tokenizer_init=False, tokenizer_mode=auto, revision=None, override_neuron_config={}, tokenizer_revision=None, trust_remote_code=False, dtype=torch.bfloat16, max_seq_len=131072, download_dir=None, load_format=auto, tensor_parallel_size=1, pipeline_parallel_size=1, disable_custom_all_reduce=False, quantization=None, enforce_eager=False, kv_cache_dtype=auto,  device_config=cuda, decoding_config=DecodingConfig(backend='auto', disable_fallback=False, disable_any_whitespace=False, disable_additional_properties=False, reasoning_backend=''), observability_config=ObservabilityConfig(show_hidden_metrics_for_version=None, otlp_traces_endpoint=None, collect_detailed_traces=None), seed=0, served_model_name=meta-llama/Llama-3.2-1B, num_scheduler_steps=1, multi_step_stream_outputs=True, enable_prefix_caching=True, chunked_prefill_enabled=True, use_async_output_proc=True, pooler_config=None, compilation_config={\"level\":3,\"debug_dump_path\":\"\",\"cache_dir\":\"\",\"backend\":\"\",\"custom_ops\":[\"none\"],\"splitting_ops\":[\"vllm.unified_attention\",\"vllm.unified_attention_with_output\"],\"use_inductor\":true,\"compile_sizes\":[],\"inductor_compile_config\":{\"enable_auto_functionalized_v2\":false},\"inductor_passes\":{},\"use_cudagraph\":true,\"cudagraph_num_of_warmups\":1,\"cudagraph_capture_sizes\":[512,504,496,488,480,472,464,456,448,440,432,424,416,408,400,392,384,376,368,360,352,344,336,328,320,312,304,296,288,280,272,264,256,248,240,232,224,216,208,200,192,184,176,168,160,152,144,136,128,120,112,104,96,88,80,72,64,56,48,40,32,24,16,8,4,2,1],\"cudagraph_copy_inputs\":false,\"full_cuda_graph\":false,\"max_capture_size\":512,\"local_cache_dir\":null}\n",
      "WARNING 06-16 07:15:49 [utils.py:2737] Methods determine_num_available_blocks,device_config,get_cache_block_size_bytes,initialize_cache not implemented in <vllm.v1.worker.gpu_worker.Worker object at 0x7336ad3bfbb0>\n",
      "INFO 06-16 07:15:49 [parallel_state.py:1065] rank 0 in world size 1 is assigned as DP rank 0, PP rank 0, TP rank 0, EP rank 0\n",
      "WARNING 06-16 07:15:49 [interface.py:376] Using 'pin_memory=False' as WSL is detected. This may slow down the performance.\n",
      "WARNING 06-16 07:15:49 [topk_topp_sampler.py:59] FlashInfer is not available. Falling back to the PyTorch-native implementation of top-p & top-k sampling. For the best performance, please install FlashInfer.\n",
      "INFO 06-16 07:15:49 [gpu_model_runner.py:1595] Starting to load model meta-llama/Llama-3.2-1B...\n",
      "INFO 06-16 07:15:50 [gpu_model_runner.py:1600] Loading model from scratch...\n",
      "INFO 06-16 07:15:50 [cuda.py:252] Using Flash Attention backend on V1 engine.\n",
      "INFO 06-16 07:15:50 [weight_utils.py:292] Using model weights format ['*.safetensors']\n",
      "INFO 06-16 07:16:24 [weight_utils.py:308] Time spent downloading weights for meta-llama/Llama-3.2-1B: 34.032468 seconds\n",
      "INFO 06-16 07:16:25 [weight_utils.py:345] No model.safetensors.index.json found in remote.\n"
     ]
    },
    {
     "name": "stderr",
     "output_type": "stream",
     "text": [
      "Loading safetensors checkpoint shards:   0% Completed | 0/1 [00:00<?, ?it/s]\n",
      "Loading safetensors checkpoint shards: 100% Completed | 1/1 [00:00<00:00,  2.16it/s]\n",
      "Loading safetensors checkpoint shards: 100% Completed | 1/1 [00:00<00:00,  2.15it/s]\n",
      "\n"
     ]
    },
    {
     "name": "stdout",
     "output_type": "stream",
     "text": [
      "INFO 06-16 07:16:25 [default_loader.py:272] Loading weights took 0.57 seconds\n",
      "INFO 06-16 07:16:25 [gpu_model_runner.py:1624] Model loading took 2.3185 GiB and 35.516474 seconds\n",
      "INFO 06-16 07:16:28 [backends.py:462] Using cache directory: /root/.cache/vllm/torch_compile_cache/98b2126649/rank_0_0 for vLLM's torch.compile\n",
      "INFO 06-16 07:16:28 [backends.py:472] Dynamo bytecode transform time: 2.66 s\n"
     ]
    },
    {
     "name": "stderr",
     "output_type": "stream",
     "text": [
      "[rank0]:W0616 07:16:29.383000 149 torch/_inductor/utils.py:1250] [0/0] Not enough SMs to use max_autotune_gemm mode\n"
     ]
    },
    {
     "name": "stdout",
     "output_type": "stream",
     "text": [
      "INFO 06-16 07:16:30 [backends.py:161] Cache the graph of shape None for later use\n",
      "INFO 06-16 07:16:38 [backends.py:173] Compiling a graph for general shape takes 9.02 s\n",
      "INFO 06-16 07:16:42 [monitor.py:34] torch.compile takes 11.69 s in total\n",
      "INFO 06-16 07:16:43 [gpu_worker.py:227] Available KV cache memory: 10.85 GiB\n",
      "INFO 06-16 07:16:43 [kv_cache_utils.py:715] GPU KV cache size: 355,696 tokens\n",
      "INFO 06-16 07:16:43 [kv_cache_utils.py:719] Maximum concurrency for 131,072 tokens per request: 2.71x\n",
      "INFO 06-16 07:17:06 [gpu_model_runner.py:2048] Graph capturing finished in 23 secs, took 0.78 GiB\n",
      "INFO 06-16 07:17:06 [core.py:171] init engine (profile, create kv cache, warmup model) took 40.21 seconds\n"
     ]
    }
   ],
   "source": [
    "llm = LLM(model=\"meta-llama/Llama-3.2-1B\")\n"
   ]
  },
  {
   "cell_type": "code",
   "execution_count": 18,
   "id": "eac79e32-84c8-4dfd-9b5b-471106e5dae2",
   "metadata": {},
   "outputs": [],
   "source": [
    "# サンプルプロンプト\n",
    "prompts = [\n",
    "    \"Do you like Meta?\",\n",
    "    \"LLMの利用する電気量は、\",\n",
    "]\n",
    "\n",
    "sampling_params = SamplingParams(temperature=0.8, top_p=0.95)"
   ]
  },
  {
   "cell_type": "code",
   "execution_count": 19,
   "id": "a42fbef8-89d9-464c-8979-649db0457763",
   "metadata": {},
   "outputs": [
    {
     "name": "stderr",
     "output_type": "stream",
     "text": [
      "Adding requests: 100%|█████████████████████████████████████████████████████████████████████████████████████████████| 2/2 [00:00<00:00, 2215.11it/s]\n",
      "Processed prompts: 100%|███████████████████████████████████████| 2/2 [00:00<00:00,  6.95it/s, est. speed input: 59.12 toks/s, output: 83.46 toks/s]"
     ]
    },
    {
     "name": "stdout",
     "output_type": "stream",
     "text": [
      "prompt: 'Do you like Meta?', generated_text: ' Post your opinion on the questionnaire!'\n",
      "prompt: 'LLMの利用する電気量は、', generated_text: '下記の通りです。\\n*1、*2、*3は、'\n"
     ]
    },
    {
     "name": "stderr",
     "output_type": "stream",
     "text": [
      "\n"
     ]
    }
   ],
   "source": [
    "outputs = llm.generate(prompts, sampling_params)\n",
    "\n",
    "for output in outputs:\n",
    "    prompt = output.prompt\n",
    "    generated_text = output.outputs[0].text\n",
    "    print(f\"prompt: {prompt!r}, generated_text: {generated_text!r}\")"
   ]
  },
  {
   "cell_type": "code",
   "execution_count": 21,
   "id": "c7f17861-e38b-4652-b2f9-0f9685f70f56",
   "metadata": {},
   "outputs": [],
   "source": [
    "# 現在のインスタンスを破棄\n",
    "del llm\n",
    "torch.cuda.empty_cache()"
   ]
  },
  {
   "cell_type": "code",
   "execution_count": null,
   "id": "065ae09e-aa0e-466d-ac75-df10be734bf9",
   "metadata": {},
   "outputs": [],
   "source": []
  }
 ],
 "metadata": {
  "kernelspec": {
   "display_name": "Python 3 (ipykernel)",
   "language": "python",
   "name": "python3"
  },
  "language_info": {
   "codemirror_mode": {
    "name": "ipython",
    "version": 3
   },
   "file_extension": ".py",
   "mimetype": "text/x-python",
   "name": "python",
   "nbconvert_exporter": "python",
   "pygments_lexer": "ipython3",
   "version": "3.10.12"
  }
 },
 "nbformat": 4,
 "nbformat_minor": 5
}
